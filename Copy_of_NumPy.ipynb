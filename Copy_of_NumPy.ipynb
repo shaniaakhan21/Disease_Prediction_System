{
  "nbformat": 4,
  "nbformat_minor": 0,
  "metadata": {
    "colab": {
      "name": "Copy of NumPy.ipynb",
      "provenance": [],
      "collapsed_sections": [],
      "include_colab_link": true
    },
    "kernelspec": {
      "name": "python3",
      "display_name": "Python 3"
    },
    "language_info": {
      "name": "python"
    }
  },
  "cells": [
    {
      "cell_type": "markdown",
      "metadata": {
        "id": "view-in-github",
        "colab_type": "text"
      },
      "source": [
        "<a href=\"https://colab.research.google.com/github/shaniaakhan21/Disease_Prediction_System/blob/main/Copy_of_NumPy.ipynb\" target=\"_parent\"><img src=\"https://colab.research.google.com/assets/colab-badge.svg\" alt=\"Open In Colab\"/></a>"
      ]
    },
    {
      "cell_type": "markdown",
      "metadata": {
        "id": "R7FSfFHPtyjS"
      },
      "source": [
        "#**Creating an array in NumPy**\n"
      ]
    },
    {
      "cell_type": "code",
      "metadata": {
        "colab": {
          "base_uri": "https://localhost:8080/"
        },
        "id": "OPYIyKB2urPo",
        "outputId": "187dace5-33ae-4013-9fb4-ce84d503b243"
      },
      "source": [
        "#using np as alias for numpy\n",
        "import numpy as np\n",
        "\n",
        "#creating ndarray object using .array() \n",
        "arr = np.array([1, 2, 3, 4, 5])\n",
        "\n",
        "#printing ndarray\n",
        "print(arr)\n",
        "\n",
        "#type of the object 'arr'\n",
        "print(type(arr))\n"
      ],
      "execution_count": null,
      "outputs": [
        {
          "output_type": "stream",
          "text": [
            "[1 2 3 4 5]\n",
            "<class 'numpy.ndarray'>\n"
          ],
          "name": "stdout"
        }
      ]
    },
    {
      "cell_type": "markdown",
      "metadata": {
        "id": "kBFkHnHzyh_a"
      },
      "source": [
        "#2-D arrays with Numpy"
      ]
    },
    {
      "cell_type": "code",
      "metadata": {
        "colab": {
          "base_uri": "https://localhost:8080/"
        },
        "id": "L0zskrHEykMY",
        "outputId": "02522c71-3694-4122-e405-75711bc86202"
      },
      "source": [
        "import numpy as np\n",
        " #creating a 2-D array\n",
        "arr = np.array([[1,2,3,4,5], [6,7,8,9,10]])\n",
        "\n",
        "#accessing the 4th element in the first dimension\n",
        "print(arr[0, 3]) "
      ],
      "execution_count": null,
      "outputs": [
        {
          "output_type": "stream",
          "text": [
            "4\n"
          ],
          "name": "stdout"
        }
      ]
    },
    {
      "cell_type": "markdown",
      "metadata": {
        "id": "BEOIBBSGzXkH"
      },
      "source": [
        "#3-D arrays\n",
        "\n",
        "\n"
      ]
    },
    {
      "cell_type": "code",
      "metadata": {
        "colab": {
          "base_uri": "https://localhost:8080/"
        },
        "id": "3XbkbXGi0aG4",
        "outputId": "682b068f-a6cd-466d-9409-6354adbfe100"
      },
      "source": [
        "import numpy as np\n",
        "#creating a 3-D array\n",
        "arr = np.array([[[1, 2, 3], [4, 5, 6], [16, 17, 18]], [[7, 8, 9], [10, 11, 12], [13, 14, 15]]])\n",
        "\n",
        "#accessing the 1st element in the third array of the second array\n",
        "print(arr[1, 2, 0]) "
      ],
      "execution_count": null,
      "outputs": [
        {
          "output_type": "stream",
          "text": [
            "13\n"
          ],
          "name": "stdout"
        }
      ]
    },
    {
      "cell_type": "markdown",
      "metadata": {
        "id": "yPrFDpe766_Y"
      },
      "source": [
        "#Negative Indexing"
      ]
    },
    {
      "cell_type": "code",
      "metadata": {
        "colab": {
          "base_uri": "https://localhost:8080/"
        },
        "id": "6Xww5StP64yK",
        "outputId": "7117164b-cf46-4216-c26b-1cab4c29c3fa"
      },
      "source": [
        "import numpy as np\n",
        "\n",
        "arr1 = np.array([1, 2, 3, 4, 5])\n",
        "print('last second element: ', arr1[-2])\n",
        "\n",
        "arr2 = np.array([[1,2,3,4,5], [6,7,8,9,10]])\n",
        "print('Last element from 2nd dim: ', arr2[1, -1]) "
      ],
      "execution_count": null,
      "outputs": [
        {
          "output_type": "stream",
          "text": [
            "last second element:  4\n",
            "Last element from 2nd dim:  10\n"
          ],
          "name": "stdout"
        }
      ]
    },
    {
      "cell_type": "markdown",
      "metadata": {
        "id": "eZ1HPsYF84SA"
      },
      "source": [
        "# **#Array Slicing**"
      ]
    },
    {
      "cell_type": "code",
      "metadata": {
        "colab": {
          "base_uri": "https://localhost:8080/"
        },
        "id": "Abe-PmqA88z_",
        "outputId": "f63f87d0-f7ea-477f-d7d8-6c84cde0dd42"
      },
      "source": [
        "import numpy as np\n",
        "\n",
        "arr = np.array([1, 2, 3, 4, 5, 6, 7])\n",
        "#Slice elements from index 4 to the end of the array:\n",
        "print(arr[4:]) \n",
        "\n",
        "#Slice elements from index 1 to index 5 from the following array:\n",
        "print(arr[1:5]) \n",
        "\n",
        "#Slice elements from the beginning to index 4 (not included):\n",
        "print(arr[:4])\n",
        "\n",
        "#Negative Slicing: Slice from the index 3 from the end to index 1 from the end:\n",
        "print(arr[-3:-1]) \n",
        "\n",
        "#Return every other element from index 1 to index 5: \"STEP\"\n",
        "print(arr[1:5:2]) "
      ],
      "execution_count": null,
      "outputs": [
        {
          "output_type": "stream",
          "text": [
            "[5 6 7]\n",
            "[2 3 4 5]\n",
            "[1 2 3 4]\n",
            "[5 6]\n",
            "[2 4]\n"
          ],
          "name": "stdout"
        }
      ]
    },
    {
      "cell_type": "markdown",
      "metadata": {
        "id": "zPo3tCm9Aab-"
      },
      "source": [
        "#Slicing 2-D arrays"
      ]
    },
    {
      "cell_type": "code",
      "metadata": {
        "colab": {
          "base_uri": "https://localhost:8080/"
        },
        "id": "J1hFiSilAeKG",
        "outputId": "50cbdc5a-cee8-42da-c3ea-9d7d2149c2e8"
      },
      "source": [
        "import numpy as np\n",
        "\n",
        "arr = np.array([[1, 2, 3, 4, 5], [6, 7, 8, 9, 10]])\n",
        "\n",
        "#From the second element, slice elements from index 1 to index 4 (not included):\n",
        "print(arr[1, 1:4]) \n",
        "\n",
        "#From both elements, return index 2:\n",
        "print(arr[0:2, 2])\n",
        "\n",
        "#From both elements, slice index 1 to index 4 (not included), this will return a 2-D array:\n",
        "print(arr[0:2, 1:4] )"
      ],
      "execution_count": null,
      "outputs": [
        {
          "output_type": "stream",
          "text": [
            "[7 8 9]\n",
            "[3 8]\n",
            "[[2 3 4]\n",
            " [7 8 9]]\n"
          ],
          "name": "stdout"
        }
      ]
    },
    {
      "cell_type": "markdown",
      "metadata": {
        "id": "4soxk19JB_Wi"
      },
      "source": [
        "#**Checking the data type of an array:**"
      ]
    },
    {
      "cell_type": "code",
      "metadata": {
        "colab": {
          "base_uri": "https://localhost:8080/"
        },
        "id": "YBFkpj5TB9wM",
        "outputId": "55d5f550-6f93-4550-e40d-0dbb0ce954fc"
      },
      "source": [
        "import numpy as np\n",
        "\n",
        "arr = np.array([1, 2, 3, 4])\n",
        "print(arr.dtype) \n",
        "\n",
        "#string data type\n",
        "sarr = np.array(['apple', 'banana', 'cherry'])\n",
        "print(sarr.dtype) "
      ],
      "execution_count": null,
      "outputs": [
        {
          "output_type": "stream",
          "text": [
            "int64\n",
            "<U6\n"
          ],
          "name": "stdout"
        }
      ]
    },
    {
      "cell_type": "markdown",
      "metadata": {
        "id": "9JUwfdjcC05x"
      },
      "source": [
        "#**Creating Arrays With a Defined Data Type**"
      ]
    },
    {
      "cell_type": "code",
      "metadata": {
        "colab": {
          "base_uri": "https://localhost:8080/"
        },
        "id": "_nULrwFlC1uH",
        "outputId": "61b91c77-05f7-471a-c64b-7e9f8e031e0a"
      },
      "source": [
        "import numpy as np\n",
        "#creating an array with data type string\n",
        "arr = np.array([1, 2, 3, 4], dtype='S')\n",
        "\n",
        "print(arr)\n",
        "print(arr.dtype) \n",
        "#creating an array with data type 4-byte integer\n",
        "iarr = np.array([1, 2, 3, 4], dtype='i4')\n",
        "\n",
        "print(iarr)\n",
        "print(iarr.dtype) "
      ],
      "execution_count": null,
      "outputs": [
        {
          "output_type": "stream",
          "text": [
            "[b'1' b'2' b'3' b'4']\n",
            "|S1\n",
            "[1 2 3 4]\n",
            "int32\n"
          ],
          "name": "stdout"
        }
      ]
    },
    {
      "cell_type": "markdown",
      "metadata": {
        "id": "VW9hnSKBi78l"
      },
      "source": [
        "#Coverting String into Float using Numpy"
      ]
    },
    {
      "cell_type": "code",
      "metadata": {
        "colab": {
          "base_uri": "https://localhost:8080/"
        },
        "id": "3Fk6DzKVi7lt",
        "outputId": "35cd96dd-92a4-4022-da6e-1c80a186805b"
      },
      "source": [
        "# Process utilizing astype() function\n",
        "\n",
        "# Import NumPy Library\n",
        "import numpy as np\n",
        "\n",
        "# Initialize our Array with Strings\n",
        "# The String Type is denoted by the quotes \"\"\n",
        "initialArray = [\"1.1\", \"2.2\", \"3.3\", \"4.4\"]\n",
        "\n",
        "# Convert initial Array to NumPy Array\n",
        "# Use the array() function\n",
        "sampleArray = np.array(initialArray)\n",
        "\n",
        "# Print our Initial Array\n",
        "print(\"Our initial array: \", initialArray)\n",
        "print(\"Original type: \" , type(initialArray[0]))\n",
        "\n",
        "# Actual Conversion of Array\n",
        "# Note usage of astype() function\n",
        "# np.float can be changed to represent differing types\n",
        "convertedArray = sampleArray.astype(np.float)\n",
        "\n",
        "# Print our final result\n",
        "# Note that usage of str() is due to Python conventions\n",
        "print(\"Our final array: \", convertedArray)\n",
        "print(\"Final type: \" , type(convertedArray[0]))\n"
      ],
      "execution_count": null,
      "outputs": [
        {
          "output_type": "stream",
          "text": [
            "Our initial array:  ['1.1', '2.2', '3.3', '4.4']\n",
            "Original type:  <class 'str'>\n",
            "Our final array:  [1.1 2.2 3.3 4.4]\n",
            "Final type:  <class 'numpy.float64'>\n"
          ],
          "name": "stdout"
        }
      ]
    },
    {
      "cell_type": "markdown",
      "metadata": {
        "id": "fCEUfHBYkBpo"
      },
      "source": [
        "#Coverting Float into integers using Numpy"
      ]
    },
    {
      "cell_type": "code",
      "metadata": {
        "colab": {
          "base_uri": "https://localhost:8080/"
        },
        "id": "IFZ_vF6QjkXD",
        "outputId": "c58867b7-3417-4696-b24e-dad6dd1c2b62"
      },
      "source": [
        "A = np.array((0.4, 1.6, 2.1, -3.7, 2.9))\n",
        "print(A)\n",
        "\n",
        "A = A.astype(int)\n",
        "print(A)\n",
        "print(type(A[1]))\n",
        "\n"
      ],
      "execution_count": null,
      "outputs": [
        {
          "output_type": "stream",
          "text": [
            "[ 0.4  1.6  2.1 -3.7  2.9]\n",
            "[ 0  1  2 -3  2]\n",
            "<class 'numpy.int64'>\n"
          ],
          "name": "stdout"
        }
      ]
    },
    {
      "cell_type": "markdown",
      "metadata": {
        "id": "iY2G8Hx6lXiU"
      },
      "source": [
        "#Coverting integers into Float using Numpy"
      ]
    },
    {
      "cell_type": "code",
      "metadata": {
        "colab": {
          "base_uri": "https://localhost:8080/"
        },
        "id": "H8_LuyOYkkT-",
        "outputId": "1a14b76b-9614-4b29-b449-468d8ff0495d"
      },
      "source": [
        "A = np.array((0, 1, 2, -3, 2))\n",
        "print(A)\n",
        "print(type(A[0]))\n",
        "\n",
        "A = A.astype(float)\n",
        "print(A)\n",
        "print(type(A[1]))"
      ],
      "execution_count": null,
      "outputs": [
        {
          "output_type": "stream",
          "text": [
            "[ 0  1  2 -3  2]\n",
            "<class 'numpy.int64'>\n",
            "[ 0.  1.  2. -3.  2.]\n",
            "<class 'numpy.float64'>\n"
          ],
          "name": "stdout"
        }
      ]
    },
    {
      "cell_type": "markdown",
      "metadata": {
        "id": "xTk0wboFiDjo"
      },
      "source": [
        "#Reading a CSV File in Python\n",
        "~Using numpy , genfromtxt() function"
      ]
    },
    {
      "cell_type": "code",
      "metadata": {
        "colab": {
          "base_uri": "https://localhost:8080/"
        },
        "id": "SArTdIKMgTW0",
        "outputId": "93e1ada9-2675-447d-9554-16f1c2f36af3"
      },
      "source": [
        "import numpy as np\n",
        "data = np.genfromtxt('company_sales_data.csv', dtype= None, delimiter=',',skip_header=1)\n",
        "print(data)"
      ],
      "execution_count": 8,
      "outputs": [
        {
          "output_type": "stream",
          "text": [
            "[[     1   2500   1500   5200   9200   1200   1500  21100 211000]\n",
            " [     2   2630   1200   5100   6100   2100   1200  18330 183300]\n",
            " [     3   2140   1340   4550   9550   3550   1340  22470 224700]\n",
            " [     4   3400   1130   5870   8870   1870   1130  22270 222700]\n",
            " [     5   3600   1740   4560   7760   1560   1740  20960 209600]\n",
            " [     6   2760   1555   4890   7490   1890   1555  20140 201400]\n",
            " [     7   2980   1120   4780   8980   1780   1120  29550 295500]\n",
            " [     8   3700   1400   5860   9960   2860   1400  36140 361400]\n",
            " [     9   3540   1780   6100   8100   2100   1780  23400 234000]\n",
            " [    10   1990   1890   8300  10300   2300   1890  26670 266700]\n",
            " [    11   2340   2100   7300  13300   2400   2100  41280 412800]\n",
            " [    12   2900   1760   7400  14400   1800   1760  30020 300200]]\n"
          ],
          "name": "stdout"
        }
      ]
    }
  ]
}